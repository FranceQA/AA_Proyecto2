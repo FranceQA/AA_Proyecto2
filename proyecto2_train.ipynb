{
 "cells": [
  {
   "cell_type": "code",
   "execution_count": 1,
   "id": "be750735",
   "metadata": {},
   "outputs": [],
   "source": [
    "#!pip install mediapipe"
   ]
  },
  {
   "cell_type": "code",
   "execution_count": 2,
   "id": "925f9643",
   "metadata": {},
   "outputs": [],
   "source": [
    "#Modelo pre-entrenado\n",
    "import mediapipe as mp\n",
    "#Lector de imágenes\n",
    "import cv2\n",
    "#Manejo de datos\n",
    "import numpy as np\n",
    "#Lector de direcciones\n",
    "import os\n",
    "\n",
    "#Mezcla\n",
    "from sklearn.utils import shuffle\n",
    "#División de datos\n",
    "from sklearn.model_selection import train_test_split\n",
    "#Modelo a entrenar\n",
    "from sklearn.neighbors import KNeighborsClassifier\n",
    "#Captura de resultados\n",
    "from sklearn import metrics\n",
    "\n",
    "#Impresión de tablas\n",
    "import matplotlib.pyplot as plt\n",
    "\n",
    "mp_drawing = mp.solutions.drawing_utils\n",
    "mp_drawing_styles = mp.solutions.drawing_styles\n",
    "mp_hands = mp.solutions.hands"
   ]
  },
  {
   "cell_type": "code",
   "execution_count": 3,
   "id": "ab36ab25",
   "metadata": {},
   "outputs": [],
   "source": [
    "def get_param(Class):\n",
    "    with mp_hands.Hands(\n",
    "        static_image_mode=True,\n",
    "        max_num_hands=2,\n",
    "        min_detection_confidence=0.5) as hands:\n",
    "        data=[]\n",
    "        for idx, file in enumerate(os.listdir(Class)):\n",
    "            # Read an image, flip it around y-axis for correct handedness output (see\n",
    "            # above).\n",
    "            img = cv2.flip(cv2.imread(os.path.join(Class,file)), 1)\n",
    "            imap = cv2.flip(img, 1)\n",
    "            \n",
    "            for image in [img,imap]:\n",
    "            \n",
    "                # Convert the BGR image to RGB before processing.\n",
    "                results = hands.process(cv2.cvtColor(image, cv2.COLOR_BGR2RGB))\n",
    "\n",
    "                if not results.multi_hand_landmarks:\n",
    "                    continue\n",
    "                image_height, image_width, _ = image.shape\n",
    "                annotated_image = image.copy()\n",
    "\n",
    "                for hand_landmarks in results.multi_hand_landmarks:\n",
    "                    points=[]\n",
    "                    points.append(hand_landmarks.landmark[mp_hands.HandLandmark.WRIST])\n",
    "\n",
    "                    points.append(hand_landmarks.landmark[mp_hands.HandLandmark.THUMB_CMC])\n",
    "                    points.append(hand_landmarks.landmark[mp_hands.HandLandmark.THUMB_MCP])\n",
    "                    points.append(hand_landmarks.landmark[mp_hands.HandLandmark.THUMB_IP])\n",
    "                    points.append(hand_landmarks.landmark[mp_hands.HandLandmark.THUMB_TIP])\n",
    "\n",
    "                    points.append(hand_landmarks.landmark[mp_hands.HandLandmark.INDEX_FINGER_MCP])\n",
    "                    points.append(hand_landmarks.landmark[mp_hands.HandLandmark.INDEX_FINGER_PIP])\n",
    "                    points.append(hand_landmarks.landmark[mp_hands.HandLandmark.INDEX_FINGER_DIP])\n",
    "                    points.append(hand_landmarks.landmark[mp_hands.HandLandmark.INDEX_FINGER_TIP])\n",
    "\n",
    "                    points.append(hand_landmarks.landmark[mp_hands.HandLandmark.MIDDLE_FINGER_MCP])\n",
    "                    points.append(hand_landmarks.landmark[mp_hands.HandLandmark.MIDDLE_FINGER_PIP])\n",
    "                    points.append(hand_landmarks.landmark[mp_hands.HandLandmark.MIDDLE_FINGER_DIP])\n",
    "                    points.append(hand_landmarks.landmark[mp_hands.HandLandmark.MIDDLE_FINGER_TIP])\n",
    "\n",
    "                    points.append(hand_landmarks.landmark[mp_hands.HandLandmark.RING_FINGER_MCP])\n",
    "                    points.append(hand_landmarks.landmark[mp_hands.HandLandmark.RING_FINGER_PIP])\n",
    "                    points.append(hand_landmarks.landmark[mp_hands.HandLandmark.RING_FINGER_DIP])\n",
    "                    points.append(hand_landmarks.landmark[mp_hands.HandLandmark.RING_FINGER_TIP])\n",
    "\n",
    "                    points.append(hand_landmarks.landmark[mp_hands.HandLandmark.PINKY_MCP])\n",
    "                    points.append(hand_landmarks.landmark[mp_hands.HandLandmark.PINKY_PIP])\n",
    "                    points.append(hand_landmarks.landmark[mp_hands.HandLandmark.PINKY_DIP])\n",
    "                    points.append(hand_landmarks.landmark[mp_hands.HandLandmark.PINKY_TIP])\n",
    "\n",
    "                    coor=[]\n",
    "                    for i in enumerate(points):\n",
    "                        coor.append(i[1].x)\n",
    "                        coor.append(i[1].y)\n",
    "                        coor.append(i[1].z)\n",
    "                    data.append([coor,Class])\n",
    "    return data"
   ]
  },
  {
   "cell_type": "code",
   "execution_count": 4,
   "id": "b22c0df3",
   "metadata": {},
   "outputs": [],
   "source": [
    "def xy_capture(data):\n",
    "    X=[]\n",
    "    Y=[]\n",
    "    for features,labels in data:\n",
    "        X.append(features)\n",
    "        Y.append(labels)\n",
    "    return X,Y"
   ]
  },
  {
   "cell_type": "code",
   "execution_count": 5,
   "id": "c45f87a8",
   "metadata": {
    "scrolled": true
   },
   "outputs": [
    {
     "name": "stderr",
     "output_type": "stream",
     "text": [
      "<__array_function__ internals>:5: VisibleDeprecationWarning: Creating an ndarray from ragged nested sequences (which is a list-or-tuple of lists-or-tuples-or ndarrays with different lengths or shapes) is deprecated. If you meant to do this, you must specify 'dtype=object' when creating the ndarray\n"
     ]
    }
   ],
   "source": [
    "#Captura de características\n",
    "dataa = get_param('A')\n",
    "datae = get_param('E')\n",
    "datai = get_param('I')\n",
    "datao = get_param('O')\n",
    "datau = get_param('U')\n",
    "\n",
    "#Unión y mezcla de datos\n",
    "data=np.concatenate((dataa,datae,datai,datao,datau))\n",
    "data = shuffle(data)\n",
    "\n",
    "#Separación de datos\n",
    "train_data,test_data = train_test_split(data, test_size=0.2)\n",
    "X_train,Y_train = xy_capture(train_data)\n",
    "X_test,Y_test = xy_capture(test_data)"
   ]
  },
  {
   "cell_type": "code",
   "execution_count": 7,
   "id": "7eb77655",
   "metadata": {},
   "outputs": [],
   "source": [
    "#para matrix de confusion\n",
    "from sklearn.metrics import confusion_matrix\n",
    "\n",
    "#para muestra de matrix de confusion\n",
    "import seaborn as sn\n",
    "import pandas as pd\n",
    "import matplotlib.pyplot as plt"
   ]
  },
  {
   "cell_type": "code",
   "execution_count": 8,
   "id": "868b7349",
   "metadata": {},
   "outputs": [],
   "source": [
    "model = KNeighborsClassifier(n_neighbors=7)\n",
    "model.fit(X_train, Y_train)\n",
    "predicted_knn = model.predict(X_test)"
   ]
  },
  {
   "cell_type": "code",
   "execution_count": 9,
   "id": "89a26944",
   "metadata": {},
   "outputs": [
    {
     "name": "stdout",
     "output_type": "stream",
     "text": [
      "Classification report for classifier KNeighborsClassifier(n_neighbors=7):\n",
      "              precision    recall  f1-score   support\n",
      "\n",
      "           A       1.00      1.00      1.00       285\n",
      "           E       0.99      1.00      1.00       334\n",
      "           I       1.00      0.99      0.99       278\n",
      "           O       1.00      0.99      1.00       328\n",
      "           U       1.00      1.00      1.00       324\n",
      "\n",
      "    accuracy                           1.00      1549\n",
      "   macro avg       1.00      1.00      1.00      1549\n",
      "weighted avg       1.00      1.00      1.00      1549\n",
      "\n",
      "\n"
     ]
    },
    {
     "data": {
      "image/png": "[encoded data removed]",
      "text/plain": [
       "<Figure size 432x288 with 2 Axes>"
      ]
     },
     "metadata": {
      "needs_background": "light"
     },
     "output_type": "display_data"
    }
   ],
   "source": [
    "#Resultados\n",
    "print(\n",
    "    f\"Classification report for classifier {model}:\\n\"\n",
    "    f\"{metrics.classification_report(Y_test, predicted_knn)}\\n\"\n",
    ")\n",
    "\n",
    "arr = confusion_matrix(Y_test, predicted_knn)\n",
    "\n",
    "df_cm = pd.DataFrame(arr, index = [i for i in \"AEIOU\"],columns = [i for i in \"AEIOU\"])\n",
    "plt.figure(figsize = (6,4))\n",
    "sn.heatmap(df_cm, annot=True)\n",
    "plt.show()"
   ]
  },
  {
   "cell_type": "code",
   "execution_count": 17,
   "id": "ce4c647c",
   "metadata": {},
   "outputs": [
    {
     "ename": "KeyboardInterrupt",
     "evalue": "",
     "output_type": "error",
     "traceback": [
      "\u001b[1;31m---------------------------------------------------------------------------\u001b[0m",
      "\u001b[1;31mKeyboardInterrupt\u001b[0m                         Traceback (most recent call last)",
      "\u001b[1;32m<ipython-input-17-b2109c7b330b>\u001b[0m in \u001b[0;36m<module>\u001b[1;34m\u001b[0m\n\u001b[0;32m     17\u001b[0m     \u001b[0mimage\u001b[0m\u001b[1;33m.\u001b[0m\u001b[0mflags\u001b[0m\u001b[1;33m.\u001b[0m\u001b[0mwriteable\u001b[0m \u001b[1;33m=\u001b[0m \u001b[1;32mFalse\u001b[0m\u001b[1;33m\u001b[0m\u001b[1;33m\u001b[0m\u001b[0m\n\u001b[0;32m     18\u001b[0m     \u001b[0mimage\u001b[0m \u001b[1;33m=\u001b[0m \u001b[0mcv2\u001b[0m\u001b[1;33m.\u001b[0m\u001b[0mcvtColor\u001b[0m\u001b[1;33m(\u001b[0m\u001b[0mimage\u001b[0m\u001b[1;33m,\u001b[0m \u001b[0mcv2\u001b[0m\u001b[1;33m.\u001b[0m\u001b[0mCOLOR_BGR2RGB\u001b[0m\u001b[1;33m)\u001b[0m\u001b[1;33m\u001b[0m\u001b[1;33m\u001b[0m\u001b[0m\n\u001b[1;32m---> 19\u001b[1;33m     \u001b[0mresults\u001b[0m \u001b[1;33m=\u001b[0m \u001b[0mhands\u001b[0m\u001b[1;33m.\u001b[0m\u001b[0mprocess\u001b[0m\u001b[1;33m(\u001b[0m\u001b[0mimage\u001b[0m\u001b[1;33m)\u001b[0m\u001b[1;33m\u001b[0m\u001b[1;33m\u001b[0m\u001b[0m\n\u001b[0m\u001b[0;32m     20\u001b[0m \u001b[1;33m\u001b[0m\u001b[0m\n\u001b[0;32m     21\u001b[0m     \u001b[1;31m# Draw the hand annotations on the image.\u001b[0m\u001b[1;33m\u001b[0m\u001b[1;33m\u001b[0m\u001b[1;33m\u001b[0m\u001b[0m\n",
      "\u001b[1;32m~\\anaconda3\\lib\\site-packages\\mediapipe\\python\\solutions\\hands.py\u001b[0m in \u001b[0;36mprocess\u001b[1;34m(self, image)\u001b[0m\n\u001b[0;32m    151\u001b[0m     \"\"\"\n\u001b[0;32m    152\u001b[0m \u001b[1;33m\u001b[0m\u001b[0m\n\u001b[1;32m--> 153\u001b[1;33m     \u001b[1;32mreturn\u001b[0m \u001b[0msuper\u001b[0m\u001b[1;33m(\u001b[0m\u001b[1;33m)\u001b[0m\u001b[1;33m.\u001b[0m\u001b[0mprocess\u001b[0m\u001b[1;33m(\u001b[0m\u001b[0minput_data\u001b[0m\u001b[1;33m=\u001b[0m\u001b[1;33m{\u001b[0m\u001b[1;34m'image'\u001b[0m\u001b[1;33m:\u001b[0m \u001b[0mimage\u001b[0m\u001b[1;33m}\u001b[0m\u001b[1;33m)\u001b[0m\u001b[1;33m\u001b[0m\u001b[1;33m\u001b[0m\u001b[0m\n\u001b[0m",
      "\u001b[1;32m~\\anaconda3\\lib\\site-packages\\mediapipe\\python\\solution_base.py\u001b[0m in \u001b[0;36mprocess\u001b[1;34m(self, input_data)\u001b[0m\n\u001b[0;32m    332\u001b[0m                                      data).at(self._simulated_timestamp))\n\u001b[0;32m    333\u001b[0m \u001b[1;33m\u001b[0m\u001b[0m\n\u001b[1;32m--> 334\u001b[1;33m     \u001b[0mself\u001b[0m\u001b[1;33m.\u001b[0m\u001b[0m_graph\u001b[0m\u001b[1;33m.\u001b[0m\u001b[0mwait_until_idle\u001b[0m\u001b[1;33m(\u001b[0m\u001b[1;33m)\u001b[0m\u001b[1;33m\u001b[0m\u001b[1;33m\u001b[0m\u001b[0m\n\u001b[0m\u001b[0;32m    335\u001b[0m     \u001b[1;31m# Create a NamedTuple object where the field names are mapping to the graph\u001b[0m\u001b[1;33m\u001b[0m\u001b[1;33m\u001b[0m\u001b[1;33m\u001b[0m\u001b[0m\n\u001b[0;32m    336\u001b[0m     \u001b[1;31m# output stream names.\u001b[0m\u001b[1;33m\u001b[0m\u001b[1;33m\u001b[0m\u001b[1;33m\u001b[0m\u001b[0m\n",
      "\u001b[1;31mKeyboardInterrupt\u001b[0m: "
     ]
    }
   ],
   "source": [
    "# For webcam input:\n",
    "cap = cv2.VideoCapture(0)\n",
    "with mp_hands.Hands(\n",
    "    max_num_hands=2,\n",
    "    model_complexity=0,\n",
    "    min_detection_confidence=0.5,\n",
    "    min_tracking_confidence=0.5) as hands:\n",
    "  while cap.isOpened():\n",
    "    success, image = cap.read()\n",
    "    if not success:\n",
    "      print(\"Ignoring empty camera frame.\")\n",
    "      # If loading a video, use 'break' instead of 'continue'.\n",
    "      continue\n",
    "\n",
    "    # To improve performance, optionally mark the image as not writeable to\n",
    "    # pass by reference.\n",
    "    image.flags.writeable = False\n",
    "    image = cv2.cvtColor(image, cv2.COLOR_BGR2RGB)\n",
    "    results = hands.process(image)\n",
    "\n",
    "    # Draw the hand annotations on the image.\n",
    "    image.flags.writeable = True\n",
    "    image = cv2.cvtColor(image, cv2.COLOR_RGB2BGR)\n",
    "    if results.multi_hand_landmarks:\n",
    "        for hand_landmarks in results.multi_hand_landmarks:\n",
    "\n",
    "            points=[]\n",
    "            points.append(hand_landmarks.landmark[mp_hands.HandLandmark.WRIST])\n",
    "\n",
    "            points.append(hand_landmarks.landmark[mp_hands.HandLandmark.THUMB_CMC])\n",
    "            points.append(hand_landmarks.landmark[mp_hands.HandLandmark.THUMB_MCP])\n",
    "            points.append(hand_landmarks.landmark[mp_hands.HandLandmark.THUMB_IP])\n",
    "            points.append(hand_landmarks.landmark[mp_hands.HandLandmark.THUMB_TIP])\n",
    "\n",
    "            points.append(hand_landmarks.landmark[mp_hands.HandLandmark.INDEX_FINGER_MCP])\n",
    "            points.append(hand_landmarks.landmark[mp_hands.HandLandmark.INDEX_FINGER_PIP])\n",
    "            points.append(hand_landmarks.landmark[mp_hands.HandLandmark.INDEX_FINGER_DIP])\n",
    "            points.append(hand_landmarks.landmark[mp_hands.HandLandmark.INDEX_FINGER_TIP])\n",
    "\n",
    "            points.append(hand_landmarks.landmark[mp_hands.HandLandmark.MIDDLE_FINGER_MCP])\n",
    "            points.append(hand_landmarks.landmark[mp_hands.HandLandmark.MIDDLE_FINGER_PIP])\n",
    "            points.append(hand_landmarks.landmark[mp_hands.HandLandmark.MIDDLE_FINGER_DIP])\n",
    "            points.append(hand_landmarks.landmark[mp_hands.HandLandmark.MIDDLE_FINGER_TIP])\n",
    "\n",
    "            points.append(hand_landmarks.landmark[mp_hands.HandLandmark.RING_FINGER_MCP])\n",
    "            points.append(hand_landmarks.landmark[mp_hands.HandLandmark.RING_FINGER_PIP])\n",
    "            points.append(hand_landmarks.landmark[mp_hands.HandLandmark.RING_FINGER_DIP])\n",
    "            points.append(hand_landmarks.landmark[mp_hands.HandLandmark.RING_FINGER_TIP])\n",
    "\n",
    "            points.append(hand_landmarks.landmark[mp_hands.HandLandmark.PINKY_MCP])\n",
    "            points.append(hand_landmarks.landmark[mp_hands.HandLandmark.PINKY_PIP])\n",
    "            points.append(hand_landmarks.landmark[mp_hands.HandLandmark.PINKY_DIP])\n",
    "            points.append(hand_landmarks.landmark[mp_hands.HandLandmark.PINKY_TIP])\n",
    "\n",
    "            data=[]\n",
    "            coor=[]\n",
    "            for i in enumerate(points):\n",
    "                coor.append(i[1].x)\n",
    "                coor.append(i[1].y)\n",
    "                coor.append(i[1].z)\n",
    "            data.append(coor)\n",
    "\n",
    "            clase = model.predict(data)\n",
    "            Etiqueta = 'Prediccion: '+ clase[0]\n",
    "\n",
    "            mp_drawing.draw_landmarks(\n",
    "                image,\n",
    "                hand_landmarks,\n",
    "                mp_hands.HAND_CONNECTIONS,\n",
    "                mp_drawing_styles.get_default_hand_landmarks_style(),\n",
    "                mp_drawing_styles.get_default_hand_connections_style())\n",
    "\n",
    "        \n",
    "    # Flip the image horizontally for a selfie-view display.\n",
    "    image = cv2.flip(image, 1)\n",
    "    \n",
    "    image = cv2.putText(img = image,text = Etiqueta,org = (450, 50),fontFace = cv2.FONT_HERSHEY_DUPLEX,\n",
    "                        fontScale = 0.75,color = (255, 255, 255),thickness = 1)\n",
    "    \n",
    "    cv2.imshow('MediaPipe Hands', image)\n",
    "    cv2.waitKey(5)\n",
    "    if cv2.waitKey(5) & 0xFF == 27:\n",
    "      break\n",
    "cap.release()"
   ]
  },
  {
   "cell_type": "code",
   "execution_count": null,
   "id": "609e6a76",
   "metadata": {},
   "outputs": [],
   "source": []
  },
  {
   "cell_type": "code",
   "execution_count": null,
   "id": "3a33565c",
   "metadata": {},
   "outputs": [],
   "source": []
  }
 ],
 "metadata": {
  "kernelspec": {
   "display_name": "Python 3",
   "language": "python",
   "name": "python3"
  },
  "language_info": {
   "codemirror_mode": {
    "name": "ipython",
    "version": 3
   },
   "file_extension": ".py",
   "mimetype": "text/x-python",
   "name": "python",
   "nbconvert_exporter": "python",
   "pygments_lexer": "ipython3",
   "version": "3.8.8"
  }
 },
 "nbformat": 4,
 "nbformat_minor": 5
}
