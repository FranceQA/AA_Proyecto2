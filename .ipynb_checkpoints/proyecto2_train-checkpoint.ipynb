{
 "cells": [
  {
   "cell_type": "code",
   "execution_count": null,
   "id": "be750735",
   "metadata": {},
   "outputs": [],
   "source": [
    "#!pip install mediapipe"
   ]
  },
  {
   "cell_type": "code",
   "execution_count": null,
   "id": "925f9643",
   "metadata": {},
   "outputs": [],
   "source": [
    "import mediapipe as mp\n",
    "import cv2\n",
    "import numpy as np\n",
    "import os\n",
    "\n",
    "mp_drawing = mp.solutions.drawing_utils\n",
    "mp_drawing_styles = mp.solutions.drawing_styles\n",
    "mp_hands = mp.solutions.hands"
   ]
  },
  {
   "cell_type": "code",
   "execution_count": null,
   "id": "ab36ab25",
   "metadata": {},
   "outputs": [],
   "source": [
    "def get_param(Class):\n",
    "    with mp_hands.Hands(\n",
    "        static_image_mode=True,\n",
    "        max_num_hands=2,\n",
    "        min_detection_confidence=0.5) as hands:\n",
    "        X=[]\n",
    "        for idx, file in enumerate(os.listdir(Class)):\n",
    "            # Read an image, flip it around y-axis for correct handedness output (see\n",
    "            # above).\n",
    "            image = cv2.flip(cv2.imread(os.path.join(Class,file)), 1)\n",
    "            # Convert the BGR image to RGB before processing.\n",
    "            results = hands.process(cv2.cvtColor(image, cv2.COLOR_BGR2RGB))\n",
    "\n",
    "            if not results.multi_hand_landmarks:\n",
    "                continue\n",
    "            image_height, image_width, _ = image.shape\n",
    "            annotated_image = image.copy()\n",
    "\n",
    "            for hand_landmarks in results.multi_hand_landmarks:\n",
    "                points=[]\n",
    "                points.append(hand_landmarks.landmark[mp_hands.HandLandmark.WRIST])\n",
    "\n",
    "                points.append(hand_landmarks.landmark[mp_hands.HandLandmark.THUMB_CMC])\n",
    "                points.append(hand_landmarks.landmark[mp_hands.HandLandmark.THUMB_MCP])\n",
    "                points.append(hand_landmarks.landmark[mp_hands.HandLandmark.THUMB_IP])\n",
    "                points.append(hand_landmarks.landmark[mp_hands.HandLandmark.THUMB_TIP])\n",
    "\n",
    "                points.append(hand_landmarks.landmark[mp_hands.HandLandmark.INDEX_FINGER_MCP])\n",
    "                points.append(hand_landmarks.landmark[mp_hands.HandLandmark.INDEX_FINGER_PIP])\n",
    "                points.append(hand_landmarks.landmark[mp_hands.HandLandmark.INDEX_FINGER_DIP])\n",
    "                points.append(hand_landmarks.landmark[mp_hands.HandLandmark.INDEX_FINGER_TIP])\n",
    "\n",
    "                points.append(hand_landmarks.landmark[mp_hands.HandLandmark.MIDDLE_FINGER_MCP])\n",
    "                points.append(hand_landmarks.landmark[mp_hands.HandLandmark.MIDDLE_FINGER_PIP])\n",
    "                points.append(hand_landmarks.landmark[mp_hands.HandLandmark.MIDDLE_FINGER_DIP])\n",
    "                points.append(hand_landmarks.landmark[mp_hands.HandLandmark.MIDDLE_FINGER_TIP])\n",
    "\n",
    "                points.append(hand_landmarks.landmark[mp_hands.HandLandmark.RING_FINGER_MCP])\n",
    "                points.append(hand_landmarks.landmark[mp_hands.HandLandmark.RING_FINGER_PIP])\n",
    "                points.append(hand_landmarks.landmark[mp_hands.HandLandmark.RING_FINGER_DIP])\n",
    "                points.append(hand_landmarks.landmark[mp_hands.HandLandmark.RING_FINGER_TIP])\n",
    "\n",
    "                points.append(hand_landmarks.landmark[mp_hands.HandLandmark.PINKY_MCP])\n",
    "                points.append(hand_landmarks.landmark[mp_hands.HandLandmark.PINKY_PIP])\n",
    "                points.append(hand_landmarks.landmark[mp_hands.HandLandmark.PINKY_DIP])\n",
    "                points.append(hand_landmarks.landmark[mp_hands.HandLandmark.PINKY_TIP])\n",
    "\n",
    "                data=[]\n",
    "                for i in enumerate(points):\n",
    "                    data.append(i[1].x)\n",
    "                    data.append(i[1].y)\n",
    "                    data.append(i[1].z)\n",
    "                X.append(data)\n",
    "    return X"
   ]
  },
  {
   "cell_type": "code",
   "execution_count": null,
   "id": "f75e56bc",
   "metadata": {
    "scrolled": true
   },
   "outputs": [],
   "source": [
    "X = get_param('I')"
   ]
  }
 ],
 "metadata": {
  "kernelspec": {
   "display_name": "Python 3",
   "language": "python",
   "name": "python3"
  },
  "language_info": {
   "codemirror_mode": {
    "name": "ipython",
    "version": 3
   },
   "file_extension": ".py",
   "mimetype": "text/x-python",
   "name": "python",
   "nbconvert_exporter": "python",
   "pygments_lexer": "ipython3",
   "version": "3.8.8"
  }
 },
 "nbformat": 4,
 "nbformat_minor": 5
}
